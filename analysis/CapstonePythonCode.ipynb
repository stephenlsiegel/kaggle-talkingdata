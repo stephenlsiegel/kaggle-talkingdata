{
 "cells": [
  {
   "cell_type": "markdown",
   "metadata": {},
   "source": [
    "### II. Analysis"
   ]
  },
  {
   "cell_type": "markdown",
   "metadata": {},
   "source": [
    "#### Checking gender_age tables for uniqueness of device ID"
   ]
  },
  {
   "cell_type": "code",
   "execution_count": 1,
   "metadata": {
    "collapsed": false
   },
   "outputs": [
    {
     "name": "stdout",
     "output_type": "stream",
     "text": [
      "There are 74645 values in the array and 74645 are unique.\n",
      "There are 112071 values in the array and 112071 are unique.\n",
      "There are 186716 values in the array and 186716 are unique.\n"
     ]
    }
   ],
   "source": [
    "# Set up\n",
    "import numpy as np\n",
    "import pandas as pd\n",
    "import os\n",
    "\n",
    "# Load data\n",
    "datadir = \"../data/extract/\"\n",
    "ga_train = pd.read_csv(os.path.join(datadir, 'gender_age_train.csv'), dtype='str')\n",
    "ga_test = pd.read_csv(os.path.join(datadir, 'gender_age_test.csv'), dtype='str')\n",
    "\n",
    "# Define a function that tells you how many values are in an array and how many are unique.\n",
    "def checkUnique(arr):\n",
    "    ids = np.array(arr)\n",
    "    idsUnique = np.unique(ids)\n",
    "    print \"There are %d values in the array and %d are unique.\" % (len(ids), len(idsUnique))\n",
    "\n",
    "# Train IDs\n",
    "checkUnique(ga_train.device_id)\n",
    "\n",
    "# Test IDs\n",
    "checkUnique(ga_test.device_id)\n",
    "\n",
    "# Combined IDs\n",
    "checkUnique(np.concatenate((ga_train.device_id, ga_test.device_id)))"
   ]
  },
  {
   "cell_type": "markdown",
   "metadata": {},
   "source": [
    "#### Checking phone_brand_device_model"
   ]
  },
  {
   "cell_type": "code",
   "execution_count": 2,
   "metadata": {
    "collapsed": false
   },
   "outputs": [
    {
     "name": "stdout",
     "output_type": "stream",
     "text": [
      "There are 187245 values in the array and 186716 are unique.\n"
     ]
    }
   ],
   "source": [
    "# Load data\n",
    "pbdm = pd.read_csv(os.path.join(datadir, 'phone_brand_device_model.csv'), dtype='str')\n",
    "\n",
    "# Check device_id uniqueness\n",
    "checkUnique(pbdm.device_id)"
   ]
  },
  {
   "cell_type": "code",
   "execution_count": 3,
   "metadata": {
    "collapsed": false
   },
   "outputs": [
    {
     "name": "stdout",
     "output_type": "stream",
     "text": [
      "There are 529 duplicate device IDs.\n",
      "Of those, 523 are duplicates across the entire row.\n",
      "These are the remaining 6:\n"
     ]
    },
    {
     "data": {
      "text/html": [
       "<div>\n",
       "<table border=\"1\" class=\"dataframe\">\n",
       "  <thead>\n",
       "    <tr style=\"text-align: right;\">\n",
       "      <th></th>\n",
       "      <th>device_id</th>\n",
       "      <th>phone_brand</th>\n",
       "      <th>device_model</th>\n",
       "    </tr>\n",
       "  </thead>\n",
       "  <tbody>\n",
       "    <tr>\n",
       "      <th>93020</th>\n",
       "      <td>-3004353610608679970</td>\n",
       "      <td>酷派</td>\n",
       "      <td>5891</td>\n",
       "    </tr>\n",
       "    <tr>\n",
       "      <th>128599</th>\n",
       "      <td>-3004353610608679970</td>\n",
       "      <td>酷派</td>\n",
       "      <td>7296</td>\n",
       "    </tr>\n",
       "    <tr>\n",
       "      <th>140501</th>\n",
       "      <td>-5269721363279128080</td>\n",
       "      <td>三星</td>\n",
       "      <td>Galaxy Core Advance</td>\n",
       "    </tr>\n",
       "    <tr>\n",
       "      <th>185896</th>\n",
       "      <td>-5269721363279128080</td>\n",
       "      <td>小米</td>\n",
       "      <td>MI 3</td>\n",
       "    </tr>\n",
       "    <tr>\n",
       "      <th>69302</th>\n",
       "      <td>-6590454305031525112</td>\n",
       "      <td>小米</td>\n",
       "      <td>MI 3</td>\n",
       "    </tr>\n",
       "    <tr>\n",
       "      <th>140520</th>\n",
       "      <td>-6590454305031525112</td>\n",
       "      <td>华为</td>\n",
       "      <td>荣耀6 Plus</td>\n",
       "    </tr>\n",
       "    <tr>\n",
       "      <th>81222</th>\n",
       "      <td>-7059081542575379359</td>\n",
       "      <td>LG</td>\n",
       "      <td>Nexus 5</td>\n",
       "    </tr>\n",
       "    <tr>\n",
       "      <th>93035</th>\n",
       "      <td>-7059081542575379359</td>\n",
       "      <td>魅族</td>\n",
       "      <td>魅蓝Note 2</td>\n",
       "    </tr>\n",
       "    <tr>\n",
       "      <th>45947</th>\n",
       "      <td>-7297178577997113203</td>\n",
       "      <td>华为</td>\n",
       "      <td>荣耀畅玩5X</td>\n",
       "    </tr>\n",
       "    <tr>\n",
       "      <th>112903</th>\n",
       "      <td>-7297178577997113203</td>\n",
       "      <td>华为</td>\n",
       "      <td>荣耀3C</td>\n",
       "    </tr>\n",
       "    <tr>\n",
       "      <th>106025</th>\n",
       "      <td>5245428108336915020</td>\n",
       "      <td>魅族</td>\n",
       "      <td>MX4</td>\n",
       "    </tr>\n",
       "    <tr>\n",
       "      <th>116686</th>\n",
       "      <td>5245428108336915020</td>\n",
       "      <td>小米</td>\n",
       "      <td>MI One Plus</td>\n",
       "    </tr>\n",
       "  </tbody>\n",
       "</table>\n",
       "</div>"
      ],
      "text/plain": [
       "                   device_id phone_brand         device_model\n",
       "93020   -3004353610608679970          酷派                 5891\n",
       "128599  -3004353610608679970          酷派                 7296\n",
       "140501  -5269721363279128080          三星  Galaxy Core Advance\n",
       "185896  -5269721363279128080          小米                 MI 3\n",
       "69302   -6590454305031525112          小米                 MI 3\n",
       "140520  -6590454305031525112          华为             荣耀6 Plus\n",
       "81222   -7059081542575379359          LG              Nexus 5\n",
       "93035   -7059081542575379359          魅族             魅蓝Note 2\n",
       "45947   -7297178577997113203          华为               荣耀畅玩5X\n",
       "112903  -7297178577997113203          华为                 荣耀3C\n",
       "106025   5245428108336915020          魅族                  MX4\n",
       "116686   5245428108336915020          小米          MI One Plus"
      ]
     },
     "execution_count": 3,
     "metadata": {},
     "output_type": "execute_result"
    }
   ],
   "source": [
    "# Investigating duplicate device IDs in pbdm\n",
    "\n",
    "# How many duplicate device IDs do we have?\n",
    "print \"There are %d duplicate device IDs.\" % pbdm.groupby(by='device_id').count()[pbdm.groupby(by='device_id').count()['phone_brand']>1].shape[0]\n",
    "\n",
    "# How many are just duplicate rows (phone_brand and device_model do not change across rows)\n",
    "print \"Of those, %d are duplicates across the entire row.\" % len(np.unique(np.array(pbdm[pbdm.duplicated(keep=False)].device_id)))\n",
    "\n",
    "# Print out the remaining bad dups\n",
    "dups = pbdm.groupby(by='device_id').count()[pbdm.groupby(by='device_id').count()['phone_brand']>1].index.values\n",
    "gooddups = np.unique(np.array(pbdm[pbdm.duplicated(keep=False)].device_id))\n",
    "ind = np.invert(np.in1d(dups, gooddups))\n",
    "baddups = dups[ind]\n",
    "\n",
    "print \"These are the remaining 6:\"\n",
    "pbdm[np.in1d(pbdm.device_id, baddups)].sort_values('device_id')"
   ]
  },
  {
   "cell_type": "markdown",
   "metadata": {},
   "source": [
    "#### Checking events"
   ]
  },
  {
   "cell_type": "code",
   "execution_count": 4,
   "metadata": {
    "collapsed": false
   },
   "outputs": [
    {
     "name": "stdout",
     "output_type": "stream",
     "text": [
      "There are 3252950 values in the array and 3252950 are unique.\n"
     ]
    }
   ],
   "source": [
    "# Load data\n",
    "events = pd.read_csv(os.path.join(datadir, 'events.csv'), dtype='str')\n",
    "\n",
    "# Check device_id uniqueness\n",
    "checkUnique(events.event_id)"
   ]
  },
  {
   "cell_type": "markdown",
   "metadata": {},
   "source": [
    "#### Checking label categories"
   ]
  },
  {
   "cell_type": "code",
   "execution_count": 5,
   "metadata": {
    "collapsed": false
   },
   "outputs": [
    {
     "name": "stdout",
     "output_type": "stream",
     "text": [
      "There are 930 values in the array and 930 are unique.\n",
      "There are 930 values in the array and 836 are unique.\n"
     ]
    },
    {
     "name": "stderr",
     "output_type": "stream",
     "text": [
      "c:\\Users\\Stephen\\Anaconda2-32\\lib\\site-packages\\numpy\\lib\\arraysetops.py:200: FutureWarning: numpy not_equal will not check object identity in the future. The comparison did not return the same result as suggested by the identity (`is`)) and will change.\n",
      "  flag = np.concatenate(([True], aux[1:] != aux[:-1]))\n"
     ]
    }
   ],
   "source": [
    "# Load data\n",
    "label_categories = pd.read_csv(os.path.join(datadir, 'label_categories.csv'), dtype='str')\n",
    "\n",
    "# Check unique label_id\n",
    "checkUnique(label_categories.label_id)\n",
    "checkUnique(label_categories.category)"
   ]
  },
  {
   "cell_type": "code",
   "execution_count": 6,
   "metadata": {
    "collapsed": false
   },
   "outputs": [
    {
     "data": {
      "text/html": [
       "<div>\n",
       "<table border=\"1\" class=\"dataframe\">\n",
       "  <thead>\n",
       "    <tr style=\"text-align: right;\">\n",
       "      <th></th>\n",
       "      <th>label_id</th>\n",
       "    </tr>\n",
       "    <tr>\n",
       "      <th>category</th>\n",
       "      <th></th>\n",
       "    </tr>\n",
       "  </thead>\n",
       "  <tbody>\n",
       "    <tr>\n",
       "      <th>ARPG</th>\n",
       "      <td>2</td>\n",
       "    </tr>\n",
       "    <tr>\n",
       "      <th>Accounting</th>\n",
       "      <td>2</td>\n",
       "    </tr>\n",
       "    <tr>\n",
       "      <th>Animation</th>\n",
       "      <td>2</td>\n",
       "    </tr>\n",
       "    <tr>\n",
       "      <th>Car</th>\n",
       "      <td>2</td>\n",
       "    </tr>\n",
       "    <tr>\n",
       "      <th>Crowdfunding</th>\n",
       "      <td>2</td>\n",
       "    </tr>\n",
       "  </tbody>\n",
       "</table>\n",
       "</div>"
      ],
      "text/plain": [
       "              label_id\n",
       "category              \n",
       "ARPG                 2\n",
       "Accounting           2\n",
       "Animation            2\n",
       "Car                  2\n",
       "Crowdfunding         2"
      ]
     },
     "execution_count": 6,
     "metadata": {},
     "output_type": "execute_result"
    }
   ],
   "source": [
    "# View label categories that have duplicates\n",
    "label_categories.groupby('category').count()[np.array(label_categories.groupby('category').count().label_id>=2)].head()"
   ]
  },
  {
   "cell_type": "markdown",
   "metadata": {},
   "source": [
    "#### Distribution of Group in Labeled Data"
   ]
  },
  {
   "cell_type": "code",
   "execution_count": 7,
   "metadata": {
    "collapsed": false
   },
   "outputs": [
    {
     "data": {
      "text/html": [
       "<div>\n",
       "<table border=\"1\" class=\"dataframe\">\n",
       "  <thead>\n",
       "    <tr style=\"text-align: right;\">\n",
       "      <th>group</th>\n",
       "      <th>F23-</th>\n",
       "      <th>F24-26</th>\n",
       "      <th>F27-28</th>\n",
       "      <th>F29-32</th>\n",
       "      <th>F33-42</th>\n",
       "      <th>F43+</th>\n",
       "      <th>M22-</th>\n",
       "      <th>M23-26</th>\n",
       "      <th>M27-28</th>\n",
       "      <th>M29-31</th>\n",
       "      <th>M32-38</th>\n",
       "      <th>M39+</th>\n",
       "    </tr>\n",
       "  </thead>\n",
       "  <tbody>\n",
       "    <tr>\n",
       "      <th>distribution</th>\n",
       "      <td>6.765356</td>\n",
       "      <td>5.613236</td>\n",
       "      <td>4.177105</td>\n",
       "      <td>6.200013</td>\n",
       "      <td>7.44993</td>\n",
       "      <td>5.618595</td>\n",
       "      <td>10.031482</td>\n",
       "      <td>12.867573</td>\n",
       "      <td>7.294527</td>\n",
       "      <td>9.791681</td>\n",
       "      <td>12.694755</td>\n",
       "      <td>11.495747</td>\n",
       "    </tr>\n",
       "  </tbody>\n",
       "</table>\n",
       "</div>"
      ],
      "text/plain": [
       "group             F23-    F24-26    F27-28    F29-32   F33-42      F43+  \\\n",
       "distribution  6.765356  5.613236  4.177105  6.200013  7.44993  5.618595   \n",
       "\n",
       "group              M22-     M23-26    M27-28    M29-31     M32-38       M39+  \n",
       "distribution  10.031482  12.867573  7.294527  9.791681  12.694755  11.495747  "
      ]
     },
     "execution_count": 7,
     "metadata": {},
     "output_type": "execute_result"
    }
   ],
   "source": [
    "group_dist = (ga_train.groupby('group').count()/ga_train.shape[0])[['gender']]\n",
    "group_dist.rename(columns={'gender':'distribution'}, inplace=True)\n",
    "\n",
    "# Print out the distribution and transpose it for easier interpretation\n",
    "group_dist.transpose() * 100"
   ]
  },
  {
   "cell_type": "code",
   "execution_count": 8,
   "metadata": {
    "collapsed": false
   },
   "outputs": [
    {
     "data": {
      "text/html": [
       "<div>\n",
       "<table border=\"1\" class=\"dataframe\">\n",
       "  <thead>\n",
       "    <tr style=\"text-align: right;\">\n",
       "      <th>gender</th>\n",
       "      <th>F</th>\n",
       "      <th>M</th>\n",
       "    </tr>\n",
       "  </thead>\n",
       "  <tbody>\n",
       "    <tr>\n",
       "      <th>distribution</th>\n",
       "      <td>0.358242</td>\n",
       "      <td>0.641758</td>\n",
       "    </tr>\n",
       "  </tbody>\n",
       "</table>\n",
       "</div>"
      ],
      "text/plain": [
       "gender               F         M\n",
       "distribution  0.358242  0.641758"
      ]
     },
     "execution_count": 8,
     "metadata": {},
     "output_type": "execute_result"
    }
   ],
   "source": [
    "# Distribution of gender in labeled data\n",
    "gender_dist = (ga_train.groupby('gender').count()/ga_train.shape[0])[['device_id']]\n",
    "gender_dist.rename(columns={'device_id':'distribution'}, inplace=True)\n",
    "\n",
    "gender_dist.transpose()"
   ]
  },
  {
   "cell_type": "markdown",
   "metadata": {},
   "source": [
    "### III. Methodology"
   ]
  },
  {
   "cell_type": "markdown",
   "metadata": {
    "collapsed": true
   },
   "source": [
    "#### Data Cleaning and Encoding"
   ]
  },
  {
   "cell_type": "code",
   "execution_count": 2,
   "metadata": {
    "collapsed": false
   },
   "outputs": [],
   "source": [
    "# Create gender_age_train_final and gender_age_test_final\n",
    "# train columns: device_id_enc (index), group_enc\n",
    "# test column: device_id_enc (index)\n",
    "\n",
    "from sklearn.preprocessing import LabelEncoder\n",
    "\n",
    "all_device_ids = np.concatenate((ga_train.device_id, ga_test.device_id))\n",
    "\n",
    "# Encode device IDs\n",
    "dev_id_enc = LabelEncoder().fit(all_device_ids)\n",
    "ga_train['device_id_enc'] = dev_id_enc.transform(ga_train['device_id'])\n",
    "ga_test['device_id_enc'] = dev_id_enc.transform(ga_test['device_id'])\n",
    "\n",
    "# Encode group\n",
    "group_enc = LabelEncoder().fit(ga_train.group)\n",
    "ga_train['group_enc'] = group_enc.transform(ga_train['group'])\n",
    "\n",
    "# Create final dataframes\n",
    "ga_train_final = ga_train[['device_id_enc', 'group_enc']].set_index('device_id_enc')\n",
    "ga_test_final = ga_test[['device_id_enc']].set_index('device_id_enc')\n",
    "\n",
    "# Write to csv\n",
    "ga_train_final.to_csv(path_or_buf='../data/final-data-files/ga_train_final.csv')\n",
    "ga_test_final.to_csv(path_or_buf='../data/final-data-files/ga_test_final.csv')"
   ]
  },
  {
   "cell_type": "code",
   "execution_count": 18,
   "metadata": {
    "collapsed": false
   },
   "outputs": [
    {
     "name": "stderr",
     "output_type": "stream",
     "text": [
      "c:\\Users\\Stephen\\Anaconda2-32\\lib\\site-packages\\ipykernel\\__main__.py:6: SettingWithCopyWarning: \n",
      "A value is trying to be set on a copy of a slice from a DataFrame.\n",
      "Try using .loc[row_indexer,col_indexer] = value instead\n",
      "\n",
      "See the caveats in the documentation: http://pandas.pydata.org/pandas-docs/stable/indexing.html#indexing-view-versus-copy\n"
     ]
    },
    {
     "data": {
      "text/html": [
       "<div>\n",
       "<table border=\"1\" class=\"dataframe\">\n",
       "  <thead>\n",
       "    <tr style=\"text-align: right;\">\n",
       "      <th></th>\n",
       "      <th>phone_brand_enc</th>\n",
       "      <th>device_model_enc</th>\n",
       "    </tr>\n",
       "    <tr>\n",
       "      <th>device_id_enc</th>\n",
       "      <th></th>\n",
       "      <th></th>\n",
       "    </tr>\n",
       "  </thead>\n",
       "  <tbody>\n",
       "    <tr>\n",
       "      <th>89024</th>\n",
       "      <td>51</td>\n",
       "      <td>1517</td>\n",
       "    </tr>\n",
       "    <tr>\n",
       "      <th>96788</th>\n",
       "      <td>51</td>\n",
       "      <td>749</td>\n",
       "    </tr>\n",
       "    <tr>\n",
       "      <th>140101</th>\n",
       "      <td>15</td>\n",
       "      <td>560</td>\n",
       "    </tr>\n",
       "  </tbody>\n",
       "</table>\n",
       "</div>"
      ],
      "text/plain": [
       "               phone_brand_enc  device_model_enc\n",
       "device_id_enc                                   \n",
       "89024                       51              1517\n",
       "96788                       51               749\n",
       "140101                      15               560"
      ]
     },
     "execution_count": 18,
     "metadata": {},
     "output_type": "execute_result"
    }
   ],
   "source": [
    "# Create pbdm_final\n",
    "# Columns: device_id_enc (index), phone_brand_enc, device_model_enc\n",
    "\n",
    "# Drop duplicates in PBDM, encode device_id, set device_id_enc as the index\n",
    "pbdm_final = pbdm.drop_duplicates(subset='device_id', keep='first')\n",
    "pbdm_final['device_id_enc'] = dev_id_enc.transform(pbdm_final['device_id'])\n",
    "\n",
    "pbdm_final = pbdm_final.set_index('device_id_enc')\n",
    "\n",
    "# Encode phone brand\n",
    "pb_enc = LabelEncoder().fit(pbdm_final.phone_brand)\n",
    "pbdm_final['phone_brand_enc'] = pb_enc.transform(pbdm_final['phone_brand'])\n",
    "\n",
    "# Encode device model\n",
    "dm_enc = LabelEncoder().fit(pbdm_final.device_model)\n",
    "pbdm_final['device_model_enc'] = dm_enc.transform(pbdm_final['device_model'])\n",
    "\n",
    "# Keep only encoded columns\n",
    "pbdm_final = pbdm_final[['phone_brand_enc', 'device_model_enc']]\n",
    "\n",
    "# Write to csv\n",
    "pbdm_final.to_csv(path_or_buf='../data/final-data-files/pbdm_final.csv')\n",
    "\n",
    "pbdm_final.head(3)"
   ]
  },
  {
   "cell_type": "code",
   "execution_count": 19,
   "metadata": {
    "collapsed": false
   },
   "outputs": [],
   "source": [
    "# Create events_final\n",
    "# Columns: event_id (index), device_id_enc\n",
    "\n",
    "# Filter out device_ids that are not in ga_train or ga_test\n",
    "events_final = events[np.in1d(events.device_id, all_device_ids, invert=False)]\n",
    "\n",
    "# Encode device_id\n",
    "events_final = events_final[['event_id', 'device_id']]\n",
    "events_final['device_id_enc'] = dev_id_enc.transform(events_final['device_id'])\n",
    "\n",
    "# Keep only event_id, device_id_enc columns. Set index.\n",
    "events_final = events_final[['event_id', 'device_id_enc']].set_index('event_id')\n",
    "\n",
    "# Write to csv\n",
    "events_final.to_csv(path_or_buf='../data/final-data-files/events_final.csv')"
   ]
  },
  {
   "cell_type": "markdown",
   "metadata": {},
   "source": [
    "### Model Evaluation and Validation"
   ]
  },
  {
   "cell_type": "markdown",
   "metadata": {
    "collapsed": true
   },
   "source": [
    "#### Unencoded Submissions"
   ]
  },
  {
   "cell_type": "code",
   "execution_count": 3,
   "metadata": {
    "collapsed": true
   },
   "outputs": [],
   "source": [
    "sub_enc = pd.read_csv('../submissions/encoded/prediction-0149.csv')"
   ]
  },
  {
   "cell_type": "code",
   "execution_count": 4,
   "metadata": {
    "collapsed": false
   },
   "outputs": [],
   "source": [
    "# Unencode device ID\n",
    "sub_unenc = pd.DataFrame(sub_enc)\n",
    "sub_unenc['device_id'] = dev_id_enc.inverse_transform(sub_unenc['device_id_enc'])\n",
    "\n",
    "# Rearrange columns and drop encoded device ID\n",
    "sub_unenc = sub_unenc[['device_id', '0','1','2','3','4','5','6','7','8','9','10','11']].set_index('device_id')\n",
    "\n",
    "# Rename columns\n",
    "sub_unenc = sub_unenc.rename(columns={'0':'F23-','1':'F24-26','2':'F27-28','3':'F29-32','4':'F33-42','5':'F43+',\n",
    "                                      '6':'M22-','7':'M23-26','8':'M27-28','9':'M29-31','10':'M32-38','11':'M39+'})\n",
    "\n",
    "# Output to csv\n",
    "sub_unenc.to_csv('../submissions/prediction-on-sparse-matrices.csv')"
   ]
  },
  {
   "cell_type": "code",
   "execution_count": null,
   "metadata": {
    "collapsed": false
   },
   "outputs": [],
   "source": []
  },
  {
   "cell_type": "code",
   "execution_count": null,
   "metadata": {
    "collapsed": false
   },
   "outputs": [],
   "source": []
  },
  {
   "cell_type": "code",
   "execution_count": null,
   "metadata": {
    "collapsed": true
   },
   "outputs": [],
   "source": []
  },
  {
   "cell_type": "markdown",
   "metadata": {},
   "source": [
    "### =================================================================="
   ]
  },
  {
   "cell_type": "markdown",
   "metadata": {},
   "source": [
    "### This all gets done in R now"
   ]
  },
  {
   "cell_type": "code",
   "execution_count": 128,
   "metadata": {
    "collapsed": false
   },
   "outputs": [],
   "source": [
    "# Create app_labels_final\n",
    "# Columns: app_id, app_id_enc, label_id_enc\n",
    "\n",
    "# Load app_labels\n",
    "app_labels = pd.read_csv(os.path.join(datadir, 'app_labels.csv'), dtype={'app_id':'str', 'label_id':'str'})\n",
    "\n",
    "# Create a primary key field that concatenates app_id and app_label\n",
    "app_labels_pk = []\n",
    "\n",
    "for i in zip(app_labels.app_id, app_labels.label_id):\n",
    "    app_labels_pk.append(i[0]+'_'+i[1])\n",
    "    \n",
    "app_labels['app_label_pk'] = app_labels_pk\n",
    "\n",
    "# Drop duplicates using the primary key\n",
    "app_labels = app_labels.drop_duplicates(subset='app_label_pk', keep='first')\n",
    "\n",
    "# Encode app_ids\n",
    "app_id_enc = LabelEncoder().fit(app_labels.app_id)\n",
    "app_labels['app_id_enc'] = app_id_enc.transform(app_labels['app_id'])\n",
    "\n",
    "# Encode label_ids\n",
    "label_id_enc = LabelEncoder().fit(app_labels.label_id)\n",
    "app_labels['label_id_enc'] = label_id_enc.transform(app_labels['label_id'])\n",
    "\n",
    "# Keep only app_id, app_id_enc, label_id_enc columns\n",
    "app_labels_final = app_labels[['app_id', 'app_id_enc', 'label_id_enc']]\n",
    "\n",
    "# Write to csv\n",
    "app_labels_final.to_csv(path_or_buf='../data/final-data-files/app_labels_final.csv', index=False)"
   ]
  },
  {
   "cell_type": "code",
   "execution_count": 147,
   "metadata": {
    "collapsed": false
   },
   "outputs": [
    {
     "name": "stderr",
     "output_type": "stream",
     "text": [
      "c:\\Users\\Stephen\\Anaconda2-32\\lib\\site-packages\\ipykernel\\__main__.py:8: SettingWithCopyWarning: \n",
      "A value is trying to be set on a copy of a slice from a DataFrame.\n",
      "Try using .loc[row_indexer,col_indexer] = value instead\n",
      "\n",
      "See the caveats in the documentation: http://pandas.pydata.org/pandas-docs/stable/indexing.html#indexing-view-versus-copy\n",
      "c:\\Users\\Stephen\\Anaconda2-32\\lib\\site-packages\\ipykernel\\__main__.py:12: SettingWithCopyWarning: \n",
      "A value is trying to be set on a copy of a slice from a DataFrame.\n",
      "Try using .loc[row_indexer,col_indexer] = value instead\n",
      "\n",
      "See the caveats in the documentation: http://pandas.pydata.org/pandas-docs/stable/indexing.html#indexing-view-versus-copy\n"
     ]
    }
   ],
   "source": [
    "# Create label_categories_final\n",
    "# Columns: label_id_enc, category_enc\n",
    "\n",
    "# Filter out label_ids that are not in app_labels_final\n",
    "label_categories_final = label_categories[np.in1d(label_categories.label_id, np.unique(app_labels.label_id))]\n",
    "\n",
    "# Encode label_id\n",
    "label_categories_final['label_id_enc'] = label_id_enc.transform(label_categories_final['label_id'])\n",
    "\n",
    "# Encode category\n",
    "category_enc = LabelEncoder().fit(label_categories_final.category)\n",
    "label_categories_final['category_enc'] = category_enc.transform(label_categories_final['category'])\n",
    "\n",
    "# Keep only label_id_enc, category_enc\n",
    "label_categories_final = label_categories_final[['label_id_enc', 'category_enc']]\n",
    "\n",
    "# Write to csv\n",
    "label_categories_final.to_csv(path_or_buf='../data/final-data-files/label_categories_final.csv', index=False)"
   ]
  },
  {
   "cell_type": "code",
   "execution_count": 151,
   "metadata": {
    "collapsed": false
   },
   "outputs": [
    {
     "data": {
      "text/html": [
       "<div>\n",
       "<table border=\"1\" class=\"dataframe\">\n",
       "  <thead>\n",
       "    <tr style=\"text-align: right;\">\n",
       "      <th></th>\n",
       "      <th>label_id_enc</th>\n",
       "      <th>category_enc</th>\n",
       "    </tr>\n",
       "  </thead>\n",
       "  <tbody>\n",
       "    <tr>\n",
       "      <th>1</th>\n",
       "      <td>100</td>\n",
       "      <td>375</td>\n",
       "    </tr>\n",
       "    <tr>\n",
       "      <th>3</th>\n",
       "      <td>203</td>\n",
       "      <td>349</td>\n",
       "    </tr>\n",
       "    <tr>\n",
       "      <th>4</th>\n",
       "      <td>217</td>\n",
       "      <td>360</td>\n",
       "    </tr>\n",
       "    <tr>\n",
       "      <th>5</th>\n",
       "      <td>242</td>\n",
       "      <td>355</td>\n",
       "    </tr>\n",
       "    <tr>\n",
       "      <th>6</th>\n",
       "      <td>261</td>\n",
       "      <td>356</td>\n",
       "    </tr>\n",
       "  </tbody>\n",
       "</table>\n",
       "</div>"
      ],
      "text/plain": [
       "   label_id_enc  category_enc\n",
       "1           100           375\n",
       "3           203           349\n",
       "4           217           360\n",
       "5           242           355\n",
       "6           261           356"
      ]
     },
     "execution_count": 151,
     "metadata": {},
     "output_type": "execute_result"
    }
   ],
   "source": [
    "label_categories_final.head()"
   ]
  },
  {
   "cell_type": "code",
   "execution_count": 145,
   "metadata": {
    "collapsed": false
   },
   "outputs": [
    {
     "data": {
      "text/plain": [
       "array(['1 free', '1 reputation', '1 vitality', '3 kindom game',\n",
       "       '80s Japanese comic', '90s Japanese comic', 'A beauty care',\n",
       "       'A shares', 'ARPG', 'Academic Information', 'Accounting',\n",
       "       'Adventure Game', 'Aeronautical Information Service', 'Air Travel',\n",
       "       'Airline Alliances', 'Airline type', 'And the Church', 'Animation',\n",
       "       'Animation aggregate class', 'Antique collection', 'App Store',\n",
       "       'Appliances', 'Astrology Horoscope', 'Audiobooks',\n",
       "       'Automotive News', 'Aviation Integrated Services',\n",
       "       'Bank Credit Card', 'Bank financing', 'Beach landing game',\n",
       "       'Beauty Nail', 'Behalf of the drive', 'Bond Fund',\n",
       "       'Book hotel complex', 'Booking channels', 'Browser', 'Bus',\n",
       "       'Business Office', 'Business simulation', 'Buy', 'Buy class',\n",
       "       'Calendar', 'Car', 'Car Owners', 'Card Game', 'Cards RPG',\n",
       "       'Casual puzzle categories', 'Chess categories', 'Chess game',\n",
       "       'Children puzzle game', 'Chinese Classical Mythology',\n",
       "       'Chinese mainland (Airlines)', 'Chinese painting',\n",
       "       'Class animation community', 'Classical 1', 'Clock',\n",
       "       'Coach reservations', 'College Students', 'Comics Reading Tools',\n",
       "       'Commodity Futures', 'Condition of the vehicles',\n",
       "       'Consumer Finance', 'Consumer loans', 'Contacts', 'Cool trendy',\n",
       "       'Cozy 1', 'Crowdfunding', 'Crowdfunding financing',\n",
       "       'Cultivation fantasy game', 'Custom label', 'Customization',\n",
       "       'Customized 1', 'Cute style comic', 'DS_P2P net loan',\n",
       "       'Debit and credit', 'Decoration', 'Desktop Enhancements',\n",
       "       'Destination Region', 'Dice Game', 'Direct Bank', 'Direct Banking',\n",
       "       'Direct Insurance', 'Doctors', 'Domestic animation',\n",
       "       'Domestic travel', 'Editor', 'Educational games',\n",
       "       'Engineering Drawing', 'Entertainment News', 'Enthusiasm',\n",
       "       'Equity Fund', 'Estate', 'Europe and Fantasy',\n",
       "       'Europe, the United States and Macao (Travel)',\n",
       "       'Europe, the United States and Macao (aviation)', 'Exchange',\n",
       "       'Express', 'Families with babies', 'Families with big baby',\n",
       "       'Families with small babies', 'Family Games', 'File Editor',\n",
       "       'Finance', 'Financial Futures', 'Financial Information',\n",
       "       'Financial Services', 'Financial Supermarket', 'Flight Shooting',\n",
       "       'Flight area', 'Free exercise', 'Full Service Airlines',\n",
       "       'Furniture', 'Games', 'General Aviation',\n",
       "       'Guard tower defense game', 'H shares', 'Hardware Related', 'Harem',\n",
       "       'Health Management', 'Heritage Foundation', 'High Flow',\n",
       "       'High mobility', 'High profitability', 'High risk',\n",
       "       'High-end business aviation', 'High-end hotel',\n",
       "       'High-speed rail train reservation', 'Higher income',\n",
       "       'Hong Kong, Macao and Taiwan (Travel)',\n",
       "       'Hong Kong, Macao and Taiwan (aviation)', 'Hotel Chain',\n",
       "       'Hotel Type', 'Hotel application', 'Hotels', 'Housekeeping',\n",
       "       'Housing Advice', 'IM', 'IMF', 'Industry tag', 'Information',\n",
       "       'Insurance', 'Integrated Air Travel Booking', 'Integrated Living',\n",
       "       'Integrated ticket reservation', 'Integrated tourism',\n",
       "       'Intellectual development game', 'Intelligent hardware',\n",
       "       'Internet Banking', 'Internet Insurance', 'Internet Securities',\n",
       "       'Internet banking', 'Irritation / Fun 1',\n",
       "       'Japan and South Korea (Air)', 'Japan and South Korea (Travel)',\n",
       "       'Jin Yong', 'Jobs', 'Journey', 'Journey to the West game', 'KTV',\n",
       "       'Life Insurance', 'Liquid medium', 'Listening to books category',\n",
       "       'Literacy Games', 'Lottery ticket', 'Low Cost Airlines', 'Low Risk',\n",
       "       'Low income', 'Low liquidity', 'Low profitability', 'Low risk',\n",
       "       'Lower liquidity', 'MMO', 'MOBA', 'Make-up application',\n",
       "       'Man playing favorites', 'Martial arts',\n",
       "       'Maternal and child population', 'Maternal and child supplies',\n",
       "       'Medical', 'Medium risk', 'Moderate profitability', 'Monetary Fund',\n",
       "       'Mother', 'Music Games', 'N shares', 'Nature 1', 'Ninja', 'Noble 1',\n",
       "       'Non-standard accommodation', 'Occupational identity',\n",
       "       'Online booking class', 'Other Read', 'Other shares',\n",
       "       'Outlaws of the Marsh game', 'Overseas travel', 'P2P',\n",
       "       'P2P net loan', 'Parenting', 'Parenting stage',\n",
       "       'Parkour avoid class', 'Passion 1', 'Pay', 'Peace - Search',\n",
       "       'Personal Effectiveness', 'Personal Effectiveness 1', 'Ping',\n",
       "       'Pirated content', 'Points Activities', 'Precious Metals',\n",
       "       'Pregnant baby', 'Prepare baby', 'Prepare pregnant pregnancy',\n",
       "       'Property Industry 1.0', 'Property Industry 2.0',\n",
       "       'Property Industry new', 'Purpose of travel', 'Pursuit 1', 'Puzzle',\n",
       "       'Puzzles', 'Quality 1', 'RPG game', 'Racing (RAC)', 'Racing games',\n",
       "       \"Read the operator's\", 'Real Estate Trust', 'Recipes',\n",
       "       'Regional Aviation', 'Relatives', 'Relatives 1', 'Rentals',\n",
       "       'Reputation', 'Reviews', 'Romance', 'SLG (strategy)',\n",
       "       'Sale of cars', 'Scheduling', 'Science and Technology',\n",
       "       'Science and Technology 1', 'Sea Amoy', 'Securities', 'Sellers',\n",
       "       'Senki', 'Services 1', 'Share Tour', 'Share Travels',\n",
       "       'Shootout Shooting (STG)', 'Shushan', 'Simple', 'Simple 1',\n",
       "       'Simulators', 'Skin care applications', 'Smart Appliances',\n",
       "       'Smart Home', 'Smart Shopping', 'Smart Shopping 1',\n",
       "       'Southeast Asia (Travel)', 'Southeast Asia (aviation)', 'Sports',\n",
       "       'Sports Games', 'Sports News', 'Stimulate fun', 'Stock Futures',\n",
       "       'System Tools', 'Table Games', 'Taxi', 'Technology Information',\n",
       "       'Tencent', 'Texas Poker', 'The elimination of class',\n",
       "       'Third party payment', 'Third-party card management', 'Tomb',\n",
       "       'Total Cost', 'Total Cost 1', 'Tour around', 'Tower Defense',\n",
       "       'Traditional Insurance', 'Traditional securities brokerage',\n",
       "       'Travel Information', 'Travel Travel', 'Travel advisory',\n",
       "       'Travel preferences', 'Trendy / cool', 'Trendy / cool 1', 'Trust',\n",
       "       'Trust funds', 'Turn based RPG game', 'US and Europe animation',\n",
       "       'US and Europe magic comic', 'User Community', 'Utilities',\n",
       "       'Vermicelli', 'WIFI', 'Wealth Management', 'Wearable Health',\n",
       "       'Weather', 'Western Mythology', 'Word games', 'World of Warcraft',\n",
       "       'Xian Xia', 'action games', 'airport', 'art and culture',\n",
       "       'aviation', 'basketball', 'billards', 'blogs', 'business',\n",
       "       'business cards', 'business strategy game', 'casual games',\n",
       "       'checkpoints game', 'chess', 'children books', 'chinese comic',\n",
       "       'class managemetn', 'classical', 'coach transport', 'comfortable',\n",
       "       'comics', 'community', 'convenience services', 'cosplay', 'coupon',\n",
       "       'dictionary', 'dotal-lol', 'education for babies',\n",
       "       'education outside class', 'effort', 'email', 'entertainment',\n",
       "       'exams', 'exchange rate', 'farm', 'fashion', 'fashion outfit',\n",
       "       'fighting game', 'financial', 'fixed income', 'flight', 'football',\n",
       "       'foreign language', 'free', 'fund', 'futures', 'gambling', 'game',\n",
       "       'game-3D', 'game-Adventure puzzle', 'game-Answer', 'game-Art Style',\n",
       "       'game-Bobble', 'game-Box', 'game-Business simulation',\n",
       "       'game-Cartoon', 'game-Competitive action', 'game-Cutting things',\n",
       "       'game-Finding fault', 'game-Fishing', 'game-Gem Elimination',\n",
       "       'game-Horizontal version', 'game-Leisure time', 'game-Lianliankan',\n",
       "       'game-Motorcycle', 'game-Music and Dance', 'game-Parkour',\n",
       "       'game-Puzzle', 'game-Racing', 'game-Role -playing games',\n",
       "       'game-Rowing', 'game-Snipe', 'game-Tactics', 'game-Zuma',\n",
       "       'game-aircraft', 'game-card', 'game-flight', 'game-game type',\n",
       "       'game-gem', 'game-pet', 'game-shooting', 'game-stress reliever',\n",
       "       'game-tank', 'gaming strategy', 'health', 'household products',\n",
       "       'japanese and korean style', 'japanese comic and animation', 'joke',\n",
       "       'knight game', 'library', 'literature', 'lose weight',\n",
       "       'love and marriage', 'love raising up', 'magazine and journal',\n",
       "       'magic', 'majiang', 'management', 'map', 'math', 'mesasge',\n",
       "       'millitary and wars', 'mobile bank', 'movie', 'music', 'natural',\n",
       "       'navigation', 'network disk', 'news', 'noble', 'notes', 'novels',\n",
       "       'old style game', 'online malls',\n",
       "       'online shopping by group, like groupon',\n",
       "       'online shopping navigation', 'online shopping, price comparing',\n",
       "       'other', 'other ball game', 'pet raising up', 'phone',\n",
       "       'picture sharing', 'pictures photography', 'pixel style comic',\n",
       "       'poetry', 'poker', 'poker and chess', 'poker game_doudizhu',\n",
       "       'professional skills', 'psychology', 'pursue', 'puzzel', 'quality',\n",
       "       'radio', 'raising up game', 'read', 'readers', 'reading for fetus',\n",
       "       'reading platform', 'realistic style comic', 'reality show',\n",
       "       'realtime fighting', 'round', 'safety Insurance', 'sailing game',\n",
       "       'science', 'science fiction', 'search', 'service',\n",
       "       'shopping sharing', 'show', 'shows', 'sports', 'sports and gym',\n",
       "       'stock', 'store management', 'strategy game', 'study abroad',\n",
       "       'table game', 'takeaway ordering', 'tennis', 'the film',\n",
       "       'tourism product', 'train', 'travel', 'tribe', 'trickery',\n",
       "       'unknown', 'video', 'violence comic', 'vitality', 'war chess',\n",
       "       'weibo', 'zombies game'], dtype=object)"
      ]
     },
     "execution_count": 145,
     "metadata": {},
     "output_type": "execute_result"
    }
   ],
   "source": [
    "category_enc.classes_"
   ]
  },
  {
   "cell_type": "markdown",
   "metadata": {},
   "source": [
    "# ================== Scratch, delete later =================="
   ]
  },
  {
   "cell_type": "code",
   "execution_count": 63,
   "metadata": {
    "collapsed": false
   },
   "outputs": [
    {
     "data": {
      "text/plain": [
       "113211"
      ]
     },
     "execution_count": 63,
     "metadata": {},
     "output_type": "execute_result"
    }
   ],
   "source": [
    "len(np.unique(app_labels.app_id))"
   ]
  },
  {
   "cell_type": "code",
   "execution_count": 40,
   "metadata": {
    "collapsed": false
   },
   "outputs": [
    {
     "data": {
      "text/html": [
       "<div>\n",
       "<table border=\"1\" class=\"dataframe\">\n",
       "  <thead>\n",
       "    <tr style=\"text-align: right;\">\n",
       "      <th></th>\n",
       "      <th>app_id</th>\n",
       "      <th>label_id</th>\n",
       "      <th>app_label_pk</th>\n",
       "    </tr>\n",
       "  </thead>\n",
       "  <tbody>\n",
       "    <tr>\n",
       "      <th>430731</th>\n",
       "      <td>-1035709620851836587</td>\n",
       "      <td>204</td>\n",
       "      <td>-1035709620851836587_204</td>\n",
       "    </tr>\n",
       "    <tr>\n",
       "      <th>435491</th>\n",
       "      <td>-1035709620851836587</td>\n",
       "      <td>204</td>\n",
       "      <td>-1035709620851836587_204</td>\n",
       "    </tr>\n",
       "  </tbody>\n",
       "</table>\n",
       "</div>"
      ],
      "text/plain": [
       "                      app_id label_id              app_label_pk\n",
       "430731  -1035709620851836587      204  -1035709620851836587_204\n",
       "435491  -1035709620851836587      204  -1035709620851836587_204"
      ]
     },
     "execution_count": 40,
     "metadata": {},
     "output_type": "execute_result"
    }
   ],
   "source": [
    "app_labels[app_labels.app_id=='-1035709620851836587']\n",
    "\n",
    "# -1035709620851836587_204"
   ]
  },
  {
   "cell_type": "code",
   "execution_count": 35,
   "metadata": {
    "collapsed": false
   },
   "outputs": [
    {
     "data": {
      "text/plain": [
       "459452"
      ]
     },
     "execution_count": 35,
     "metadata": {},
     "output_type": "execute_result"
    }
   ],
   "source": [
    "len(np.unique(app_labels_pk))"
   ]
  },
  {
   "cell_type": "code",
   "execution_count": 57,
   "metadata": {
    "collapsed": false
   },
   "outputs": [
    {
     "data": {
      "text/plain": [
       "array([  0,   1,   2,   3,   4,   5,   6,   7,   8,   9,  10,  11,  12,\n",
       "        13,  14,  15,  16,  17,  18,  19,  20,  21,  22,  23,  24,  25,\n",
       "        26,  27,  28,  29,  30,  31,  32,  33,  34,  35,  36,  37,  38,\n",
       "        39,  40,  41,  42,  43,  44,  45,  46,  47,  48,  49,  50,  51,\n",
       "        52,  53,  54,  55,  56,  57,  58,  59,  60,  61,  62,  63,  64,\n",
       "        65,  66,  67,  68,  69,  70,  71,  72,  73,  74,  75,  76,  77,\n",
       "        78,  79,  80,  81,  82,  83,  84,  85,  86,  87,  88,  89,  90,\n",
       "        91,  92,  93,  94,  95,  96,  97,  98,  99, 100, 101, 102, 103,\n",
       "       104, 105, 106, 107, 108, 109, 110, 111, 112, 113, 114, 115, 116,\n",
       "       117, 118, 119, 120, 121, 122, 123, 124, 125, 126, 127, 128, 129, 130])"
      ]
     },
     "execution_count": 57,
     "metadata": {},
     "output_type": "execute_result"
    }
   ],
   "source": [
    "len(np.unique(pbdm.device_model))\n",
    "np.unique(pbdm.phone_brand_enc)"
   ]
  },
  {
   "cell_type": "code",
   "execution_count": 4,
   "metadata": {
    "collapsed": false
   },
   "outputs": [],
   "source": [
    "app_events = pd.read_csv(os.path.join(datadir, 'app_events.csv'), dtype='str', usecols=['app_id'])"
   ]
  },
  {
   "cell_type": "code",
   "execution_count": 5,
   "metadata": {
    "collapsed": false
   },
   "outputs": [],
   "source": [
    "app_ids_unique = np.unique(app_events.app_id)"
   ]
  },
  {
   "cell_type": "code",
   "execution_count": 6,
   "metadata": {
    "collapsed": false
   },
   "outputs": [],
   "source": [
    "app_id_encoder_AE = LabelEncoder().fit(app_ids_unique)"
   ]
  },
  {
   "cell_type": "code",
   "execution_count": 7,
   "metadata": {
    "collapsed": false
   },
   "outputs": [],
   "source": [
    "app_events['app_id_enc'] = app_id_encoder_AE.transform(app_events['app_id'])"
   ]
  },
  {
   "cell_type": "code",
   "execution_count": 1,
   "metadata": {
    "collapsed": true
   },
   "outputs": [],
   "source": [
    "import numpy as np\n",
    "import pandas as pd\n",
    "import os"
   ]
  },
  {
   "cell_type": "code",
   "execution_count": 2,
   "metadata": {
    "collapsed": false
   },
   "outputs": [],
   "source": [
    "datadir = \"../data/extract/\""
   ]
  },
  {
   "cell_type": "code",
   "execution_count": 3,
   "metadata": {
    "collapsed": true
   },
   "outputs": [],
   "source": [
    "from sklearn.preprocessing import LabelEncoder"
   ]
  },
  {
   "cell_type": "code",
   "execution_count": 9,
   "metadata": {
    "collapsed": true
   },
   "outputs": [],
   "source": [
    "app_events.to_csv(path_or_buf='../data/processed/app_events_enc.csv', index=False)"
   ]
  },
  {
   "cell_type": "code",
   "execution_count": 10,
   "metadata": {
    "collapsed": true
   },
   "outputs": [],
   "source": [
    "app_labels = pd.read_csv(os.path.join(datadir, 'app_labels.csv'), dtype={'app_id':'str', 'label_id':'str'})"
   ]
  },
  {
   "cell_type": "code",
   "execution_count": 12,
   "metadata": {
    "collapsed": false
   },
   "outputs": [
    {
     "ename": "ValueError",
     "evalue": "y contains new labels: ['-1000044011832266039' '-1000044012126315025' '-1000437729193132121' ...,\n '999394088888896055' '999559308866387142' '999834977830134602']",
     "output_type": "error",
     "traceback": [
      "\u001b[1;31m---------------------------------------------------------------------------\u001b[0m",
      "\u001b[1;31mValueError\u001b[0m                                Traceback (most recent call last)",
      "\u001b[1;32m<ipython-input-12-149fc4a4be1f>\u001b[0m in \u001b[0;36m<module>\u001b[1;34m()\u001b[0m\n\u001b[1;32m----> 1\u001b[1;33m \u001b[0mapp_labels\u001b[0m\u001b[1;33m[\u001b[0m\u001b[1;34m'app_id_enc'\u001b[0m\u001b[1;33m]\u001b[0m \u001b[1;33m=\u001b[0m \u001b[0mapp_id_encoder_AE\u001b[0m\u001b[1;33m.\u001b[0m\u001b[0mtransform\u001b[0m\u001b[1;33m(\u001b[0m\u001b[0mapp_labels\u001b[0m\u001b[1;33m[\u001b[0m\u001b[1;34m'app_id'\u001b[0m\u001b[1;33m]\u001b[0m\u001b[1;33m)\u001b[0m\u001b[1;33m\u001b[0m\u001b[0m\n\u001b[0m",
      "\u001b[1;32mc:\\Users\\Stephen\\Anaconda2-32\\lib\\site-packages\\sklearn\\preprocessing\\label.pyc\u001b[0m in \u001b[0;36mtransform\u001b[1;34m(self, y)\u001b[0m\n\u001b[0;32m    146\u001b[0m         \u001b[1;32mif\u001b[0m \u001b[0mlen\u001b[0m\u001b[1;33m(\u001b[0m\u001b[0mnp\u001b[0m\u001b[1;33m.\u001b[0m\u001b[0mintersect1d\u001b[0m\u001b[1;33m(\u001b[0m\u001b[0mclasses\u001b[0m\u001b[1;33m,\u001b[0m \u001b[0mself\u001b[0m\u001b[1;33m.\u001b[0m\u001b[0mclasses_\u001b[0m\u001b[1;33m)\u001b[0m\u001b[1;33m)\u001b[0m \u001b[1;33m<\u001b[0m \u001b[0mlen\u001b[0m\u001b[1;33m(\u001b[0m\u001b[0mclasses\u001b[0m\u001b[1;33m)\u001b[0m\u001b[1;33m:\u001b[0m\u001b[1;33m\u001b[0m\u001b[0m\n\u001b[0;32m    147\u001b[0m             \u001b[0mdiff\u001b[0m \u001b[1;33m=\u001b[0m \u001b[0mnp\u001b[0m\u001b[1;33m.\u001b[0m\u001b[0msetdiff1d\u001b[0m\u001b[1;33m(\u001b[0m\u001b[0mclasses\u001b[0m\u001b[1;33m,\u001b[0m \u001b[0mself\u001b[0m\u001b[1;33m.\u001b[0m\u001b[0mclasses_\u001b[0m\u001b[1;33m)\u001b[0m\u001b[1;33m\u001b[0m\u001b[0m\n\u001b[1;32m--> 148\u001b[1;33m             \u001b[1;32mraise\u001b[0m \u001b[0mValueError\u001b[0m\u001b[1;33m(\u001b[0m\u001b[1;34m\"y contains new labels: %s\"\u001b[0m \u001b[1;33m%\u001b[0m \u001b[0mstr\u001b[0m\u001b[1;33m(\u001b[0m\u001b[0mdiff\u001b[0m\u001b[1;33m)\u001b[0m\u001b[1;33m)\u001b[0m\u001b[1;33m\u001b[0m\u001b[0m\n\u001b[0m\u001b[0;32m    149\u001b[0m         \u001b[1;32mreturn\u001b[0m \u001b[0mnp\u001b[0m\u001b[1;33m.\u001b[0m\u001b[0msearchsorted\u001b[0m\u001b[1;33m(\u001b[0m\u001b[0mself\u001b[0m\u001b[1;33m.\u001b[0m\u001b[0mclasses_\u001b[0m\u001b[1;33m,\u001b[0m \u001b[0my\u001b[0m\u001b[1;33m)\u001b[0m\u001b[1;33m\u001b[0m\u001b[0m\n\u001b[0;32m    150\u001b[0m \u001b[1;33m\u001b[0m\u001b[0m\n",
      "\u001b[1;31mValueError\u001b[0m: y contains new labels: ['-1000044011832266039' '-1000044012126315025' '-1000437729193132121' ...,\n '999394088888896055' '999559308866387142' '999834977830134602']"
     ]
    }
   ],
   "source": [
    "app_labels['app_id_enc'] = app_id_encoder_AE.transform(app_labels['app_id'])"
   ]
  },
  {
   "cell_type": "code",
   "execution_count": 10,
   "metadata": {
    "collapsed": false
   },
   "outputs": [
    {
     "data": {
      "text/html": [
       "<div>\n",
       "<table border=\"1\" class=\"dataframe\">\n",
       "  <thead>\n",
       "    <tr style=\"text-align: right;\">\n",
       "      <th></th>\n",
       "      <th>group_enc</th>\n",
       "    </tr>\n",
       "    <tr>\n",
       "      <th>device_id_enc</th>\n",
       "      <th></th>\n",
       "    </tr>\n",
       "  </thead>\n",
       "  <tbody>\n",
       "    <tr>\n",
       "      <th>79861</th>\n",
       "      <td>10</td>\n",
       "    </tr>\n",
       "    <tr>\n",
       "      <th>21314</th>\n",
       "      <td>10</td>\n",
       "    </tr>\n",
       "    <tr>\n",
       "      <th>81925</th>\n",
       "      <td>10</td>\n",
       "    </tr>\n",
       "    <tr>\n",
       "      <th>44323</th>\n",
       "      <td>9</td>\n",
       "    </tr>\n",
       "    <tr>\n",
       "      <th>109823</th>\n",
       "      <td>9</td>\n",
       "    </tr>\n",
       "  </tbody>\n",
       "</table>\n",
       "</div>"
      ],
      "text/plain": [
       "               group_enc\n",
       "device_id_enc           \n",
       "79861                 10\n",
       "21314                 10\n",
       "81925                 10\n",
       "44323                  9\n",
       "109823                 9"
      ]
     },
     "execution_count": 10,
     "metadata": {},
     "output_type": "execute_result"
    }
   ],
   "source": [
    "ga_train_final.head()"
   ]
  },
  {
   "cell_type": "code",
   "execution_count": 13,
   "metadata": {
    "collapsed": false
   },
   "outputs": [
    {
     "data": {
      "text/html": [
       "<div>\n",
       "<table border=\"1\" class=\"dataframe\">\n",
       "  <thead>\n",
       "    <tr style=\"text-align: right;\">\n",
       "      <th></th>\n",
       "      <th>device_id</th>\n",
       "      <th>gender</th>\n",
       "      <th>age</th>\n",
       "      <th>group</th>\n",
       "      <th>device_id_enc</th>\n",
       "      <th>group_enc</th>\n",
       "    </tr>\n",
       "  </thead>\n",
       "  <tbody>\n",
       "    <tr>\n",
       "      <th>68487</th>\n",
       "      <td>-1000369272589010951</td>\n",
       "      <td>F</td>\n",
       "      <td>26</td>\n",
       "      <td>F24-26</td>\n",
       "      <td>4</td>\n",
       "      <td>1</td>\n",
       "    </tr>\n",
       "    <tr>\n",
       "      <th>1280</th>\n",
       "      <td>-1000572055892391496</td>\n",
       "      <td>F</td>\n",
       "      <td>27</td>\n",
       "      <td>F27-28</td>\n",
       "      <td>5</td>\n",
       "      <td>2</td>\n",
       "    </tr>\n",
       "    <tr>\n",
       "      <th>56524</th>\n",
       "      <td>-1000643208750517791</td>\n",
       "      <td>M</td>\n",
       "      <td>29</td>\n",
       "      <td>M29-31</td>\n",
       "      <td>8</td>\n",
       "      <td>9</td>\n",
       "    </tr>\n",
       "    <tr>\n",
       "      <th>39902</th>\n",
       "      <td>-1001337759327042486</td>\n",
       "      <td>M</td>\n",
       "      <td>30</td>\n",
       "      <td>M29-31</td>\n",
       "      <td>14</td>\n",
       "      <td>9</td>\n",
       "    </tr>\n",
       "    <tr>\n",
       "      <th>72600</th>\n",
       "      <td>-1001949518704267063</td>\n",
       "      <td>M</td>\n",
       "      <td>22</td>\n",
       "      <td>M22-</td>\n",
       "      <td>20</td>\n",
       "      <td>6</td>\n",
       "    </tr>\n",
       "  </tbody>\n",
       "</table>\n",
       "</div>"
      ],
      "text/plain": [
       "                  device_id gender age   group  device_id_enc  group_enc\n",
       "68487  -1000369272589010951      F  26  F24-26              4          1\n",
       "1280   -1000572055892391496      F  27  F27-28              5          2\n",
       "56524  -1000643208750517791      M  29  M29-31              8          9\n",
       "39902  -1001337759327042486      M  30  M29-31             14          9\n",
       "72600  -1001949518704267063      M  22    M22-             20          6"
      ]
     },
     "execution_count": 13,
     "metadata": {},
     "output_type": "execute_result"
    }
   ],
   "source": [
    "ga_train.sort_values('device_id_enc').head()"
   ]
  },
  {
   "cell_type": "code",
   "execution_count": 17,
   "metadata": {
    "collapsed": false
   },
   "outputs": [
    {
     "data": {
      "text/html": [
       "<div>\n",
       "<table border=\"1\" class=\"dataframe\">\n",
       "  <thead>\n",
       "    <tr style=\"text-align: right;\">\n",
       "      <th></th>\n",
       "      <th>device_id</th>\n",
       "      <th>device_id_enc</th>\n",
       "    </tr>\n",
       "  </thead>\n",
       "  <tbody>\n",
       "    <tr>\n",
       "      <th>45469</th>\n",
       "      <td>-1000025442746372936</td>\n",
       "      <td>0</td>\n",
       "    </tr>\n",
       "    <tr>\n",
       "      <th>56617</th>\n",
       "      <td>-1000030473234264316</td>\n",
       "      <td>1</td>\n",
       "    </tr>\n",
       "    <tr>\n",
       "      <th>55532</th>\n",
       "      <td>-1000146476441213272</td>\n",
       "      <td>2</td>\n",
       "    </tr>\n",
       "    <tr>\n",
       "      <th>11627</th>\n",
       "      <td>-100015673884079572</td>\n",
       "      <td>3</td>\n",
       "    </tr>\n",
       "    <tr>\n",
       "      <th>18155</th>\n",
       "      <td>-1000633257325356587</td>\n",
       "      <td>6</td>\n",
       "    </tr>\n",
       "  </tbody>\n",
       "</table>\n",
       "</div>"
      ],
      "text/plain": [
       "                  device_id  device_id_enc\n",
       "45469  -1000025442746372936              0\n",
       "56617  -1000030473234264316              1\n",
       "55532  -1000146476441213272              2\n",
       "11627   -100015673884079572              3\n",
       "18155  -1000633257325356587              6"
      ]
     },
     "execution_count": 17,
     "metadata": {},
     "output_type": "execute_result"
    }
   ],
   "source": [
    "ga_test.sort_values('device_id_enc').head()"
   ]
  },
  {
   "cell_type": "code",
   "execution_count": 16,
   "metadata": {
    "collapsed": false
   },
   "outputs": [
    {
     "data": {
      "text/html": [
       "<div>\n",
       "<table border=\"1\" class=\"dataframe\">\n",
       "  <thead>\n",
       "    <tr style=\"text-align: right;\">\n",
       "      <th></th>\n",
       "    </tr>\n",
       "    <tr>\n",
       "      <th>device_id_enc</th>\n",
       "    </tr>\n",
       "  </thead>\n",
       "  <tbody>\n",
       "    <tr>\n",
       "      <th>93645</th>\n",
       "    </tr>\n",
       "    <tr>\n",
       "      <th>6025</th>\n",
       "    </tr>\n",
       "    <tr>\n",
       "      <th>165147</th>\n",
       "    </tr>\n",
       "    <tr>\n",
       "      <th>58765</th>\n",
       "    </tr>\n",
       "    <tr>\n",
       "      <th>55140</th>\n",
       "    </tr>\n",
       "  </tbody>\n",
       "</table>\n",
       "</div>"
      ],
      "text/plain": [
       "Empty DataFrame\n",
       "Columns: []\n",
       "Index: [93645, 6025, 165147, 58765, 55140]"
      ]
     },
     "execution_count": 16,
     "metadata": {},
     "output_type": "execute_result"
    }
   ],
   "source": [
    "ga_test_final.head()"
   ]
  },
  {
   "cell_type": "code",
   "execution_count": null,
   "metadata": {
    "collapsed": true
   },
   "outputs": [],
   "source": []
  }
 ],
 "metadata": {
  "kernelspec": {
   "display_name": "Python [Root]",
   "language": "python",
   "name": "Python [Root]"
  },
  "language_info": {
   "codemirror_mode": {
    "name": "ipython",
    "version": 2
   },
   "file_extension": ".py",
   "mimetype": "text/x-python",
   "name": "python",
   "nbconvert_exporter": "python",
   "pygments_lexer": "ipython2",
   "version": "2.7.12"
  }
 },
 "nbformat": 4,
 "nbformat_minor": 0
}
